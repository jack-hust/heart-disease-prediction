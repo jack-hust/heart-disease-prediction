{
 "metadata": {
  "kernelspec": {
   "language": "python",
   "display_name": "Python 3",
   "name": "python3"
  },
  "language_info": {
   "name": "python",
   "version": "3.10.12",
   "mimetype": "text/x-python",
   "codemirror_mode": {
    "name": "ipython",
    "version": 3
   },
   "pygments_lexer": "ipython3",
   "nbconvert_exporter": "python",
   "file_extension": ".py"
  },
  "kaggle": {
   "accelerator": "none",
   "dataSources": [
    {
     "sourceId": 7158404,
     "sourceType": "datasetVersion",
     "datasetId": 4134266
    },
    {
     "sourceId": 7158447,
     "sourceType": "datasetVersion",
     "datasetId": 4134302
    }
   ],
   "dockerImageVersionId": 30615,
   "isInternetEnabled": true,
   "language": "python",
   "sourceType": "notebook",
   "isGpuEnabled": false
  }
 },
 "nbformat_minor": 4,
 "nbformat": 4,
 "cells": [
  {
   "cell_type": "code",
   "source": [
    "import numpy as np\n",
    "import pandas as pd\n",
    "import matplotlib.pyplot as plt\n",
    "import seaborn as sns\n",
    "\n",
    "%matplotlib inline\n",
    "\n",
    "import os\n",
    "print(os.listdir())\n",
    "\n",
    "import warnings\n",
    "warnings.filterwarnings('ignore')"
   ],
   "metadata": {
    "_uuid": "8f2839f25d086af736a60e9eeb907d3b93b6e0e5",
    "_cell_guid": "b1076dfc-b9ad-4769-8c92-a6c4dae69d19",
    "execution": {
     "iopub.status.busy": "2023-12-09T04:01:13.252693Z",
     "iopub.execute_input": "2023-12-09T04:01:13.253279Z",
     "iopub.status.idle": "2023-12-09T04:01:13.259642Z",
     "shell.execute_reply.started": "2023-12-09T04:01:13.253249Z",
     "shell.execute_reply": "2023-12-09T04:01:13.258792Z"
    },
    "trusted": true
   },
   "execution_count": 36,
   "outputs": [
    {
     "name": "stdout",
     "text": "['.virtual_documents']\n",
     "output_type": "stream"
    }
   ]
  },
  {
   "cell_type": "code",
   "source": [
    "dataset = pd.read_csv(\"/kaggle/input/dataheart-blt3/heart data.csv\")"
   ],
   "metadata": {
    "execution": {
     "iopub.status.busy": "2023-12-09T04:01:13.260971Z",
     "iopub.execute_input": "2023-12-09T04:01:13.261647Z",
     "iopub.status.idle": "2023-12-09T04:01:13.281048Z",
     "shell.execute_reply.started": "2023-12-09T04:01:13.261623Z",
     "shell.execute_reply": "2023-12-09T04:01:13.280358Z"
    },
    "trusted": true
   },
   "execution_count": 37,
   "outputs": []
  },
  {
   "cell_type": "code",
   "source": [
    "type(dataset)"
   ],
   "metadata": {
    "execution": {
     "iopub.status.busy": "2023-12-09T04:01:13.282311Z",
     "iopub.execute_input": "2023-12-09T04:01:13.282595Z",
     "iopub.status.idle": "2023-12-09T04:01:13.288773Z",
     "shell.execute_reply.started": "2023-12-09T04:01:13.282571Z",
     "shell.execute_reply": "2023-12-09T04:01:13.287551Z"
    },
    "trusted": true
   },
   "execution_count": 38,
   "outputs": [
    {
     "execution_count": 38,
     "output_type": "execute_result",
     "data": {
      "text/plain": "pandas.core.frame.DataFrame"
     },
     "metadata": {}
    }
   ]
  },
  {
   "cell_type": "code",
   "source": [
    "from sklearn.model_selection import train_test_split\n",
    "\n",
    "predictors = dataset.drop(\"target\",axis=1)\n",
    "target = dataset[\"target\"]\n",
    "\n",
    "X_train,X_test,Y_train,Y_test = train_test_split(predictors,target,test_size=0.20,random_state=0)"
   ],
   "metadata": {
    "execution": {
     "iopub.status.busy": "2023-12-09T04:01:13.291073Z",
     "iopub.execute_input": "2023-12-09T04:01:13.291607Z",
     "iopub.status.idle": "2023-12-09T04:01:13.299468Z",
     "shell.execute_reply.started": "2023-12-09T04:01:13.291576Z",
     "shell.execute_reply": "2023-12-09T04:01:13.298354Z"
    },
    "trusted": true
   },
   "execution_count": 39,
   "outputs": []
  },
  {
   "cell_type": "code",
   "source": [
    "X_train.shape"
   ],
   "metadata": {
    "execution": {
     "iopub.status.busy": "2023-12-09T04:01:13.300976Z",
     "iopub.execute_input": "2023-12-09T04:01:13.301338Z",
     "iopub.status.idle": "2023-12-09T04:01:13.313563Z",
     "shell.execute_reply.started": "2023-12-09T04:01:13.301309Z",
     "shell.execute_reply": "2023-12-09T04:01:13.312318Z"
    },
    "trusted": true
   },
   "execution_count": 40,
   "outputs": [
    {
     "execution_count": 40,
     "output_type": "execute_result",
     "data": {
      "text/plain": "(242, 13)"
     },
     "metadata": {}
    }
   ]
  },
  {
   "cell_type": "code",
   "source": [
    "X_test.shape"
   ],
   "metadata": {
    "execution": {
     "iopub.status.busy": "2023-12-09T04:01:13.315047Z",
     "iopub.execute_input": "2023-12-09T04:01:13.316185Z",
     "iopub.status.idle": "2023-12-09T04:01:13.323530Z",
     "shell.execute_reply.started": "2023-12-09T04:01:13.316147Z",
     "shell.execute_reply": "2023-12-09T04:01:13.322730Z"
    },
    "trusted": true
   },
   "execution_count": 41,
   "outputs": [
    {
     "execution_count": 41,
     "output_type": "execute_result",
     "data": {
      "text/plain": "(61, 13)"
     },
     "metadata": {}
    }
   ]
  },
  {
   "cell_type": "code",
   "source": [
    "Y_train.shape"
   ],
   "metadata": {
    "execution": {
     "iopub.status.busy": "2023-12-09T04:01:13.324748Z",
     "iopub.execute_input": "2023-12-09T04:01:13.325234Z",
     "iopub.status.idle": "2023-12-09T04:01:13.335703Z",
     "shell.execute_reply.started": "2023-12-09T04:01:13.325202Z",
     "shell.execute_reply": "2023-12-09T04:01:13.334393Z"
    },
    "trusted": true
   },
   "execution_count": 42,
   "outputs": [
    {
     "execution_count": 42,
     "output_type": "execute_result",
     "data": {
      "text/plain": "(242,)"
     },
     "metadata": {}
    }
   ]
  },
  {
   "cell_type": "code",
   "source": [
    "Y_test.shape"
   ],
   "metadata": {
    "execution": {
     "iopub.status.busy": "2023-12-09T04:01:13.337574Z",
     "iopub.execute_input": "2023-12-09T04:01:13.338537Z",
     "iopub.status.idle": "2023-12-09T04:01:13.345241Z",
     "shell.execute_reply.started": "2023-12-09T04:01:13.338501Z",
     "shell.execute_reply": "2023-12-09T04:01:13.344362Z"
    },
    "trusted": true
   },
   "execution_count": 43,
   "outputs": [
    {
     "execution_count": 43,
     "output_type": "execute_result",
     "data": {
      "text/plain": "(61,)"
     },
     "metadata": {}
    }
   ]
  },
  {
   "cell_type": "markdown",
   "source": [
    "# **Model**"
   ],
   "metadata": {}
  },
  {
   "cell_type": "code",
   "source": [
    "from sklearn.metrics import accuracy_score"
   ],
   "metadata": {
    "execution": {
     "iopub.status.busy": "2023-12-09T04:01:13.346744Z",
     "iopub.execute_input": "2023-12-09T04:01:13.347275Z",
     "iopub.status.idle": "2023-12-09T04:01:13.353842Z",
     "shell.execute_reply.started": "2023-12-09T04:01:13.347246Z",
     "shell.execute_reply": "2023-12-09T04:01:13.352977Z"
    },
    "trusted": true
   },
   "execution_count": 44,
   "outputs": []
  },
  {
   "cell_type": "markdown",
   "source": [
    "**Logistic Regression**"
   ],
   "metadata": {}
  },
  {
   "cell_type": "code",
   "source": [
    "from sklearn.linear_model import LogisticRegression\n",
    "\n",
    "lr = LogisticRegression()\n",
    "\n",
    "lr.fit(X_train,Y_train)\n",
    "\n",
    "Y_pred_lr = lr.predict(X_test)"
   ],
   "metadata": {
    "execution": {
     "iopub.status.busy": "2023-12-09T04:01:13.355935Z",
     "iopub.execute_input": "2023-12-09T04:01:13.356448Z",
     "iopub.status.idle": "2023-12-09T04:01:13.382996Z",
     "shell.execute_reply.started": "2023-12-09T04:01:13.356392Z",
     "shell.execute_reply": "2023-12-09T04:01:13.381549Z"
    },
    "trusted": true
   },
   "execution_count": 45,
   "outputs": []
  },
  {
   "cell_type": "code",
   "source": [
    "Y_pred_lr.shape"
   ],
   "metadata": {
    "execution": {
     "iopub.status.busy": "2023-12-09T04:01:13.467560Z",
     "iopub.execute_input": "2023-12-09T04:01:13.467995Z",
     "iopub.status.idle": "2023-12-09T04:01:13.474281Z",
     "shell.execute_reply.started": "2023-12-09T04:01:13.467962Z",
     "shell.execute_reply": "2023-12-09T04:01:13.473445Z"
    },
    "trusted": true
   },
   "execution_count": 46,
   "outputs": [
    {
     "execution_count": 46,
     "output_type": "execute_result",
     "data": {
      "text/plain": "(61,)"
     },
     "metadata": {}
    }
   ]
  },
  {
   "cell_type": "code",
   "source": [
    "score_lr = round(accuracy_score(Y_pred_lr,Y_test)*100,2)\n",
    "\n",
    "print(\"The accuracy score achieved using Logistic Regression is: \"+str(score_lr)+\" %\")"
   ],
   "metadata": {
    "execution": {
     "iopub.status.busy": "2023-12-09T04:01:13.476098Z",
     "iopub.execute_input": "2023-12-09T04:01:13.476598Z",
     "iopub.status.idle": "2023-12-09T04:01:13.488114Z",
     "shell.execute_reply.started": "2023-12-09T04:01:13.476570Z",
     "shell.execute_reply": "2023-12-09T04:01:13.487091Z"
    },
    "trusted": true
   },
   "execution_count": 47,
   "outputs": [
    {
     "name": "stdout",
     "text": "The accuracy score achieved using Logistic Regression is: 85.25 %\n",
     "output_type": "stream"
    }
   ]
  },
  {
   "cell_type": "markdown",
   "source": [
    "**Naive Bayes**"
   ],
   "metadata": {}
  },
  {
   "cell_type": "code",
   "source": [
    "from sklearn.naive_bayes import GaussianNB\n",
    "\n",
    "nb = GaussianNB()\n",
    "\n",
    "nb.fit(X_train,Y_train)\n",
    "\n",
    "Y_pred_nb = nb.predict(X_test)"
   ],
   "metadata": {
    "execution": {
     "iopub.status.busy": "2023-12-09T04:01:13.489253Z",
     "iopub.execute_input": "2023-12-09T04:01:13.490295Z",
     "iopub.status.idle": "2023-12-09T04:01:13.503990Z",
     "shell.execute_reply.started": "2023-12-09T04:01:13.490254Z",
     "shell.execute_reply": "2023-12-09T04:01:13.503118Z"
    },
    "trusted": true
   },
   "execution_count": 48,
   "outputs": []
  },
  {
   "cell_type": "code",
   "source": [
    "Y_pred_nb.shape"
   ],
   "metadata": {
    "execution": {
     "iopub.status.busy": "2023-12-09T04:01:13.505214Z",
     "iopub.execute_input": "2023-12-09T04:01:13.505747Z",
     "iopub.status.idle": "2023-12-09T04:01:13.512823Z",
     "shell.execute_reply.started": "2023-12-09T04:01:13.505715Z",
     "shell.execute_reply": "2023-12-09T04:01:13.511793Z"
    },
    "trusted": true
   },
   "execution_count": 49,
   "outputs": [
    {
     "execution_count": 49,
     "output_type": "execute_result",
     "data": {
      "text/plain": "(61,)"
     },
     "metadata": {}
    }
   ]
  },
  {
   "cell_type": "code",
   "source": [
    "score_nb = round(accuracy_score(Y_pred_nb,Y_test)*100,2)\n",
    "\n",
    "print(\"The accuracy score achieved using Naive Bayes is: \"+str(score_nb)+\" %\")"
   ],
   "metadata": {
    "execution": {
     "iopub.status.busy": "2023-12-09T04:01:13.515158Z",
     "iopub.execute_input": "2023-12-09T04:01:13.515501Z",
     "iopub.status.idle": "2023-12-09T04:01:13.526708Z",
     "shell.execute_reply.started": "2023-12-09T04:01:13.515475Z",
     "shell.execute_reply": "2023-12-09T04:01:13.525197Z"
    },
    "trusted": true
   },
   "execution_count": 50,
   "outputs": [
    {
     "name": "stdout",
     "text": "The accuracy score achieved using Naive Bayes is: 85.25 %\n",
     "output_type": "stream"
    }
   ]
  },
  {
   "cell_type": "markdown",
   "source": [
    "**SVM**"
   ],
   "metadata": {}
  },
  {
   "cell_type": "code",
   "source": [
    "from sklearn import svm\n",
    "\n",
    "sv = svm.SVC(kernel='linear')\n",
    "\n",
    "sv.fit(X_train, Y_train)\n",
    "\n",
    "Y_pred_svm = sv.predict(X_test)"
   ],
   "metadata": {
    "execution": {
     "iopub.status.busy": "2023-12-09T04:01:13.528190Z",
     "iopub.execute_input": "2023-12-09T04:01:13.528774Z",
     "iopub.status.idle": "2023-12-09T04:01:14.194714Z",
     "shell.execute_reply.started": "2023-12-09T04:01:13.528735Z",
     "shell.execute_reply": "2023-12-09T04:01:14.193609Z"
    },
    "trusted": true
   },
   "execution_count": 51,
   "outputs": []
  },
  {
   "cell_type": "code",
   "source": [
    "Y_pred_svm.shape"
   ],
   "metadata": {
    "execution": {
     "iopub.status.busy": "2023-12-09T04:01:14.196054Z",
     "iopub.execute_input": "2023-12-09T04:01:14.196356Z",
     "iopub.status.idle": "2023-12-09T04:01:14.202818Z",
     "shell.execute_reply.started": "2023-12-09T04:01:14.196332Z",
     "shell.execute_reply": "2023-12-09T04:01:14.201677Z"
    },
    "trusted": true
   },
   "execution_count": 52,
   "outputs": [
    {
     "execution_count": 52,
     "output_type": "execute_result",
     "data": {
      "text/plain": "(61,)"
     },
     "metadata": {}
    }
   ]
  },
  {
   "cell_type": "code",
   "source": [
    "score_svm = round(accuracy_score(Y_pred_svm,Y_test)*100,2)\n",
    "\n",
    "print(\"The accuracy score achieved using Linear SVM is: \"+str(score_svm)+\" %\")"
   ],
   "metadata": {
    "execution": {
     "iopub.status.busy": "2023-12-09T04:01:14.204498Z",
     "iopub.execute_input": "2023-12-09T04:01:14.204848Z",
     "iopub.status.idle": "2023-12-09T04:01:14.212310Z",
     "shell.execute_reply.started": "2023-12-09T04:01:14.204818Z",
     "shell.execute_reply": "2023-12-09T04:01:14.211583Z"
    },
    "trusted": true
   },
   "execution_count": 53,
   "outputs": [
    {
     "name": "stdout",
     "text": "The accuracy score achieved using Linear SVM is: 81.97 %\n",
     "output_type": "stream"
    }
   ]
  },
  {
   "cell_type": "markdown",
   "source": [
    "**K Nearest Neighbors**"
   ],
   "metadata": {}
  },
  {
   "cell_type": "code",
   "source": [
    "from sklearn.neighbors import KNeighborsClassifier\n",
    "\n",
    "knn = KNeighborsClassifier(n_neighbors=7)\n",
    "knn.fit(X_train,Y_train)\n",
    "Y_pred_knn=knn.predict(X_test)"
   ],
   "metadata": {
    "execution": {
     "iopub.status.busy": "2023-12-09T04:01:14.213058Z",
     "iopub.execute_input": "2023-12-09T04:01:14.213359Z",
     "iopub.status.idle": "2023-12-09T04:01:14.230514Z",
     "shell.execute_reply.started": "2023-12-09T04:01:14.213331Z",
     "shell.execute_reply": "2023-12-09T04:01:14.229395Z"
    },
    "trusted": true
   },
   "execution_count": 54,
   "outputs": []
  },
  {
   "cell_type": "code",
   "source": [
    "Y_pred_knn.shape"
   ],
   "metadata": {
    "execution": {
     "iopub.status.busy": "2023-12-09T04:01:14.232584Z",
     "iopub.execute_input": "2023-12-09T04:01:14.233028Z",
     "iopub.status.idle": "2023-12-09T04:01:14.239933Z",
     "shell.execute_reply.started": "2023-12-09T04:01:14.232990Z",
     "shell.execute_reply": "2023-12-09T04:01:14.238989Z"
    },
    "trusted": true
   },
   "execution_count": 55,
   "outputs": [
    {
     "execution_count": 55,
     "output_type": "execute_result",
     "data": {
      "text/plain": "(61,)"
     },
     "metadata": {}
    }
   ]
  },
  {
   "cell_type": "code",
   "source": [
    "score_knn = round(accuracy_score(Y_pred_knn,Y_test)*100,2)\n",
    "\n",
    "print(\"The accuracy score achieved using KNN is: \"+str(score_knn)+\" %\")"
   ],
   "metadata": {
    "execution": {
     "iopub.status.busy": "2023-12-09T04:01:14.241177Z",
     "iopub.execute_input": "2023-12-09T04:01:14.241515Z",
     "iopub.status.idle": "2023-12-09T04:01:14.251474Z",
     "shell.execute_reply.started": "2023-12-09T04:01:14.241492Z",
     "shell.execute_reply": "2023-12-09T04:01:14.250124Z"
    },
    "trusted": true
   },
   "execution_count": 56,
   "outputs": [
    {
     "name": "stdout",
     "text": "The accuracy score achieved using KNN is: 67.21 %\n",
     "output_type": "stream"
    }
   ]
  },
  {
   "cell_type": "markdown",
   "source": [
    "**Decision Tree**"
   ],
   "metadata": {}
  },
  {
   "cell_type": "code",
   "source": [
    "from sklearn.tree import DecisionTreeClassifier\n",
    "\n",
    "max_accuracy = 0\n",
    "\n",
    "\n",
    "for x in range(200):\n",
    "    dt = DecisionTreeClassifier(random_state=x)\n",
    "    dt.fit(X_train,Y_train)\n",
    "    Y_pred_dt = dt.predict(X_test)\n",
    "    current_accuracy = round(accuracy_score(Y_pred_dt,Y_test)*100,2)\n",
    "    if(current_accuracy>max_accuracy):\n",
    "        max_accuracy = current_accuracy\n",
    "        best_x = x\n",
    "        \n",
    "#print(max_accuracy)\n",
    "#print(best_x)\n",
    "\n",
    "\n",
    "dt = DecisionTreeClassifier(random_state=best_x)\n",
    "dt.fit(X_train,Y_train)\n",
    "Y_pred_dt = dt.predict(X_test)"
   ],
   "metadata": {
    "execution": {
     "iopub.status.busy": "2023-12-09T04:01:14.253007Z",
     "iopub.execute_input": "2023-12-09T04:01:14.253539Z",
     "iopub.status.idle": "2023-12-09T04:01:15.059485Z",
     "shell.execute_reply.started": "2023-12-09T04:01:14.253507Z",
     "shell.execute_reply": "2023-12-09T04:01:15.058470Z"
    },
    "trusted": true
   },
   "execution_count": 57,
   "outputs": []
  },
  {
   "cell_type": "code",
   "source": [
    "print(Y_pred_dt.shape)"
   ],
   "metadata": {
    "execution": {
     "iopub.status.busy": "2023-12-09T04:01:15.060564Z",
     "iopub.execute_input": "2023-12-09T04:01:15.061204Z",
     "iopub.status.idle": "2023-12-09T04:01:15.066573Z",
     "shell.execute_reply.started": "2023-12-09T04:01:15.061161Z",
     "shell.execute_reply": "2023-12-09T04:01:15.065429Z"
    },
    "trusted": true
   },
   "execution_count": 58,
   "outputs": [
    {
     "name": "stdout",
     "text": "(61,)\n",
     "output_type": "stream"
    }
   ]
  },
  {
   "cell_type": "code",
   "source": [
    "score_dt = round(accuracy_score(Y_pred_dt,Y_test)*100,2)\n",
    "\n",
    "print(\"The accuracy score achieved using Decision Tree is: \"+str(score_dt)+\" %\")"
   ],
   "metadata": {
    "execution": {
     "iopub.status.busy": "2023-12-09T04:01:15.070319Z",
     "iopub.execute_input": "2023-12-09T04:01:15.070672Z",
     "iopub.status.idle": "2023-12-09T04:01:15.079428Z",
     "shell.execute_reply.started": "2023-12-09T04:01:15.070644Z",
     "shell.execute_reply": "2023-12-09T04:01:15.078314Z"
    },
    "trusted": true
   },
   "execution_count": 59,
   "outputs": [
    {
     "name": "stdout",
     "text": "The accuracy score achieved using Decision Tree is: 81.97 %\n",
     "output_type": "stream"
    }
   ]
  },
  {
   "cell_type": "markdown",
   "source": [
    "**Random Forest**"
   ],
   "metadata": {}
  },
  {
   "cell_type": "code",
   "source": [
    "from sklearn.ensemble import RandomForestClassifier\n",
    "\n",
    "max_accuracy = 0\n",
    "\n",
    "\n",
    "for x in range(2000):\n",
    "    rf = RandomForestClassifier(random_state=x)\n",
    "    rf.fit(X_train,Y_train)\n",
    "    Y_pred_rf = rf.predict(X_test)\n",
    "    current_accuracy = round(accuracy_score(Y_pred_rf,Y_test)*100,2)\n",
    "    if(current_accuracy>max_accuracy):\n",
    "        max_accuracy = current_accuracy\n",
    "        best_x = x\n",
    "        \n",
    "#print(max_accuracy)\n",
    "#print(best_x)\n",
    "\n",
    "rf = RandomForestClassifier(random_state=best_x)\n",
    "rf.fit(X_train,Y_train)\n",
    "Y_pred_rf = rf.predict(X_test)"
   ],
   "metadata": {
    "execution": {
     "iopub.status.busy": "2023-12-09T04:01:15.080292Z",
     "iopub.execute_input": "2023-12-09T04:01:15.080570Z",
     "iopub.status.idle": "2023-12-09T04:05:57.758077Z",
     "shell.execute_reply.started": "2023-12-09T04:01:15.080547Z",
     "shell.execute_reply": "2023-12-09T04:05:57.757080Z"
    },
    "trusted": true
   },
   "execution_count": 60,
   "outputs": []
  },
  {
   "cell_type": "code",
   "source": [
    "Y_pred_rf.shape"
   ],
   "metadata": {
    "execution": {
     "iopub.status.busy": "2023-12-09T04:05:57.759574Z",
     "iopub.execute_input": "2023-12-09T04:05:57.759831Z",
     "iopub.status.idle": "2023-12-09T04:05:57.765246Z",
     "shell.execute_reply.started": "2023-12-09T04:05:57.759808Z",
     "shell.execute_reply": "2023-12-09T04:05:57.764313Z"
    },
    "trusted": true
   },
   "execution_count": 61,
   "outputs": [
    {
     "execution_count": 61,
     "output_type": "execute_result",
     "data": {
      "text/plain": "(61,)"
     },
     "metadata": {}
    }
   ]
  },
  {
   "cell_type": "code",
   "source": [
    "score_rf = round(accuracy_score(Y_pred_rf,Y_test)*100,2)\n",
    "\n",
    "print(\"The accuracy score achieved using Decision Tree is: \"+str(score_rf)+\" %\")"
   ],
   "metadata": {
    "execution": {
     "iopub.status.busy": "2023-12-09T04:05:57.766647Z",
     "iopub.execute_input": "2023-12-09T04:05:57.767199Z",
     "iopub.status.idle": "2023-12-09T04:05:57.781159Z",
     "shell.execute_reply.started": "2023-12-09T04:05:57.767167Z",
     "shell.execute_reply": "2023-12-09T04:05:57.779477Z"
    },
    "trusted": true
   },
   "execution_count": 62,
   "outputs": [
    {
     "name": "stdout",
     "text": "The accuracy score achieved using Decision Tree is: 90.16 %\n",
     "output_type": "stream"
    }
   ]
  },
  {
   "cell_type": "markdown",
   "source": [
    "**XGBoost**"
   ],
   "metadata": {}
  },
  {
   "cell_type": "code",
   "source": [
    "import xgboost as xgb\n",
    "\n",
    "xgb_model = xgb.XGBClassifier(objective=\"binary:logistic\", random_state=42)\n",
    "xgb_model.fit(X_train, Y_train)\n",
    "\n",
    "Y_pred_xgb = xgb_model.predict(X_test)"
   ],
   "metadata": {
    "execution": {
     "iopub.status.busy": "2023-12-09T04:05:57.782962Z",
     "iopub.execute_input": "2023-12-09T04:05:57.783248Z",
     "iopub.status.idle": "2023-12-09T04:05:57.847710Z",
     "shell.execute_reply.started": "2023-12-09T04:05:57.783226Z",
     "shell.execute_reply": "2023-12-09T04:05:57.846948Z"
    },
    "trusted": true
   },
   "execution_count": 63,
   "outputs": []
  },
  {
   "cell_type": "code",
   "source": [
    "Y_pred_xgb.shape"
   ],
   "metadata": {
    "execution": {
     "iopub.status.busy": "2023-12-09T04:05:57.848934Z",
     "iopub.execute_input": "2023-12-09T04:05:57.849451Z",
     "iopub.status.idle": "2023-12-09T04:05:57.856069Z",
     "shell.execute_reply.started": "2023-12-09T04:05:57.849423Z",
     "shell.execute_reply": "2023-12-09T04:05:57.854969Z"
    },
    "trusted": true
   },
   "execution_count": 64,
   "outputs": [
    {
     "execution_count": 64,
     "output_type": "execute_result",
     "data": {
      "text/plain": "(61,)"
     },
     "metadata": {}
    }
   ]
  },
  {
   "cell_type": "code",
   "source": [
    "score_xgb = round(accuracy_score(Y_pred_xgb,Y_test)*100,2)\n",
    "\n",
    "print(\"The accuracy score achieved using XGBoost is: \"+str(score_xgb)+\" %\")"
   ],
   "metadata": {
    "execution": {
     "iopub.status.busy": "2023-12-09T04:05:57.858659Z",
     "iopub.execute_input": "2023-12-09T04:05:57.859131Z",
     "iopub.status.idle": "2023-12-09T04:05:57.869004Z",
     "shell.execute_reply.started": "2023-12-09T04:05:57.859086Z",
     "shell.execute_reply": "2023-12-09T04:05:57.867612Z"
    },
    "trusted": true
   },
   "execution_count": 65,
   "outputs": [
    {
     "name": "stdout",
     "text": "The accuracy score achieved using XGBoost is: 83.61 %\n",
     "output_type": "stream"
    }
   ]
  },
  {
   "cell_type": "markdown",
   "source": [
    "**Neural Network**"
   ],
   "metadata": {}
  },
  {
   "cell_type": "code",
   "source": [
    "from keras.models import Sequential\n",
    "from keras.layers import Dense"
   ],
   "metadata": {
    "execution": {
     "iopub.status.busy": "2023-12-09T04:05:57.870256Z",
     "iopub.execute_input": "2023-12-09T04:05:57.870680Z",
     "iopub.status.idle": "2023-12-09T04:06:09.674925Z",
     "shell.execute_reply.started": "2023-12-09T04:05:57.870638Z",
     "shell.execute_reply": "2023-12-09T04:06:09.673245Z"
    },
    "trusted": true
   },
   "execution_count": 66,
   "outputs": []
  },
  {
   "cell_type": "code",
   "source": [
    "# https://stats.stackexchange.com/a/136542 helped a lot in avoiding overfitting\n",
    "\n",
    "model = Sequential()\n",
    "model.add(Dense(11,activation='relu',input_dim=13))\n",
    "model.add(Dense(1,activation='sigmoid'))\n",
    "\n",
    "model.compile(loss='binary_crossentropy',optimizer='adam',metrics=['accuracy'])"
   ],
   "metadata": {
    "execution": {
     "iopub.status.busy": "2023-12-09T04:06:09.676195Z",
     "iopub.execute_input": "2023-12-09T04:06:09.676824Z",
     "iopub.status.idle": "2023-12-09T04:06:09.843674Z",
     "shell.execute_reply.started": "2023-12-09T04:06:09.676793Z",
     "shell.execute_reply": "2023-12-09T04:06:09.842279Z"
    },
    "trusted": true
   },
   "execution_count": 67,
   "outputs": []
  },
  {
   "cell_type": "code",
   "source": [
    "model.fit(X_train,Y_train,epochs=300)"
   ],
   "metadata": {
    "execution": {
     "iopub.status.busy": "2023-12-09T04:06:09.844915Z",
     "iopub.execute_input": "2023-12-09T04:06:09.845221Z",
     "iopub.status.idle": "2023-12-09T04:06:16.850427Z",
     "shell.execute_reply.started": "2023-12-09T04:06:09.845194Z",
     "shell.execute_reply": "2023-12-09T04:06:16.849490Z"
    },
    "trusted": true
   },
   "execution_count": 68,
   "outputs": [
    {
     "name": "stdout",
     "text": "Epoch 1/300\n8/8 [==============================] - 1s 3ms/step - loss: 76.2411 - accuracy: 0.5413\nEpoch 2/300\n8/8 [==============================] - 0s 2ms/step - loss: 67.0818 - accuracy: 0.5413\nEpoch 3/300\n8/8 [==============================] - 0s 2ms/step - loss: 57.9989 - accuracy: 0.5413\nEpoch 4/300\n8/8 [==============================] - 0s 2ms/step - loss: 49.2150 - accuracy: 0.5413\nEpoch 5/300\n8/8 [==============================] - 0s 2ms/step - loss: 40.4965 - accuracy: 0.5413\nEpoch 6/300\n8/8 [==============================] - 0s 2ms/step - loss: 32.3613 - accuracy: 0.5413\nEpoch 7/300\n8/8 [==============================] - 0s 2ms/step - loss: 24.3356 - accuracy: 0.5413\nEpoch 8/300\n8/8 [==============================] - 0s 2ms/step - loss: 16.4209 - accuracy: 0.5413\nEpoch 9/300\n8/8 [==============================] - 0s 2ms/step - loss: 9.2087 - accuracy: 0.5537\nEpoch 10/300\n8/8 [==============================] - 0s 2ms/step - loss: 4.6322 - accuracy: 0.6240\nEpoch 11/300\n8/8 [==============================] - 0s 2ms/step - loss: 4.5213 - accuracy: 0.6281\nEpoch 12/300\n8/8 [==============================] - 0s 2ms/step - loss: 4.6067 - accuracy: 0.6074\nEpoch 13/300\n8/8 [==============================] - 0s 2ms/step - loss: 4.2442 - accuracy: 0.6240\nEpoch 14/300\n8/8 [==============================] - 0s 2ms/step - loss: 3.7767 - accuracy: 0.6240\nEpoch 15/300\n8/8 [==============================] - 0s 2ms/step - loss: 3.4626 - accuracy: 0.6364\nEpoch 16/300\n8/8 [==============================] - 0s 2ms/step - loss: 3.2482 - accuracy: 0.6405\nEpoch 17/300\n8/8 [==============================] - 0s 2ms/step - loss: 2.9920 - accuracy: 0.6405\nEpoch 18/300\n8/8 [==============================] - 0s 2ms/step - loss: 2.7728 - accuracy: 0.6612\nEpoch 19/300\n8/8 [==============================] - 0s 2ms/step - loss: 2.5242 - accuracy: 0.6653\nEpoch 20/300\n8/8 [==============================] - 0s 2ms/step - loss: 2.3498 - accuracy: 0.6612\nEpoch 21/300\n8/8 [==============================] - 0s 2ms/step - loss: 2.1850 - accuracy: 0.6694\nEpoch 22/300\n8/8 [==============================] - 0s 2ms/step - loss: 2.0410 - accuracy: 0.6777\nEpoch 23/300\n8/8 [==============================] - 0s 2ms/step - loss: 1.8855 - accuracy: 0.6694\nEpoch 24/300\n8/8 [==============================] - 0s 2ms/step - loss: 1.7656 - accuracy: 0.6777\nEpoch 25/300\n8/8 [==============================] - 0s 2ms/step - loss: 1.6795 - accuracy: 0.6901\nEpoch 26/300\n8/8 [==============================] - 0s 2ms/step - loss: 1.5432 - accuracy: 0.6942\nEpoch 27/300\n8/8 [==============================] - 0s 2ms/step - loss: 1.4631 - accuracy: 0.6983\nEpoch 28/300\n8/8 [==============================] - 0s 2ms/step - loss: 1.3460 - accuracy: 0.6942\nEpoch 29/300\n8/8 [==============================] - 0s 2ms/step - loss: 1.2955 - accuracy: 0.6983\nEpoch 30/300\n8/8 [==============================] - 0s 2ms/step - loss: 1.1856 - accuracy: 0.6942\nEpoch 31/300\n8/8 [==============================] - 0s 2ms/step - loss: 1.1424 - accuracy: 0.7149\nEpoch 32/300\n8/8 [==============================] - 0s 2ms/step - loss: 1.0700 - accuracy: 0.7025\nEpoch 33/300\n8/8 [==============================] - 0s 2ms/step - loss: 1.0105 - accuracy: 0.7066\nEpoch 34/300\n8/8 [==============================] - 0s 2ms/step - loss: 0.9820 - accuracy: 0.7231\nEpoch 35/300\n8/8 [==============================] - 0s 2ms/step - loss: 0.9197 - accuracy: 0.7149\nEpoch 36/300\n8/8 [==============================] - 0s 2ms/step - loss: 0.9003 - accuracy: 0.7273\nEpoch 37/300\n8/8 [==============================] - 0s 2ms/step - loss: 0.8833 - accuracy: 0.7066\nEpoch 38/300\n8/8 [==============================] - 0s 2ms/step - loss: 0.8731 - accuracy: 0.7273\nEpoch 39/300\n8/8 [==============================] - 0s 2ms/step - loss: 0.8367 - accuracy: 0.7273\nEpoch 40/300\n8/8 [==============================] - 0s 2ms/step - loss: 0.8034 - accuracy: 0.7231\nEpoch 41/300\n8/8 [==============================] - 0s 2ms/step - loss: 0.7970 - accuracy: 0.7438\nEpoch 42/300\n8/8 [==============================] - 0s 2ms/step - loss: 0.7807 - accuracy: 0.7273\nEpoch 43/300\n8/8 [==============================] - 0s 2ms/step - loss: 0.7658 - accuracy: 0.7355\nEpoch 44/300\n8/8 [==============================] - 0s 2ms/step - loss: 0.7679 - accuracy: 0.7231\nEpoch 45/300\n8/8 [==============================] - 0s 3ms/step - loss: 0.7659 - accuracy: 0.7314\nEpoch 46/300\n8/8 [==============================] - 0s 2ms/step - loss: 0.7314 - accuracy: 0.7355\nEpoch 47/300\n8/8 [==============================] - 0s 2ms/step - loss: 0.7176 - accuracy: 0.7355\nEpoch 48/300\n8/8 [==============================] - 0s 2ms/step - loss: 0.7226 - accuracy: 0.7479\nEpoch 49/300\n8/8 [==============================] - 0s 2ms/step - loss: 0.6945 - accuracy: 0.7521\nEpoch 50/300\n8/8 [==============================] - 0s 2ms/step - loss: 0.6928 - accuracy: 0.7479\nEpoch 51/300\n8/8 [==============================] - 0s 2ms/step - loss: 0.6752 - accuracy: 0.7562\nEpoch 52/300\n8/8 [==============================] - 0s 2ms/step - loss: 0.6791 - accuracy: 0.7521\nEpoch 53/300\n8/8 [==============================] - 0s 2ms/step - loss: 0.6581 - accuracy: 0.7562\nEpoch 54/300\n8/8 [==============================] - 0s 2ms/step - loss: 0.6595 - accuracy: 0.7479\nEpoch 55/300\n8/8 [==============================] - 0s 2ms/step - loss: 0.6446 - accuracy: 0.7479\nEpoch 56/300\n8/8 [==============================] - 0s 2ms/step - loss: 0.6260 - accuracy: 0.7727\nEpoch 57/300\n8/8 [==============================] - 0s 2ms/step - loss: 0.6218 - accuracy: 0.7810\nEpoch 58/300\n8/8 [==============================] - 0s 2ms/step - loss: 0.6106 - accuracy: 0.7727\nEpoch 59/300\n8/8 [==============================] - 0s 2ms/step - loss: 0.6081 - accuracy: 0.7851\nEpoch 60/300\n8/8 [==============================] - 0s 2ms/step - loss: 0.6487 - accuracy: 0.7273\nEpoch 61/300\n8/8 [==============================] - 0s 2ms/step - loss: 0.7138 - accuracy: 0.7521\nEpoch 62/300\n8/8 [==============================] - 0s 2ms/step - loss: 0.6195 - accuracy: 0.7190\nEpoch 63/300\n8/8 [==============================] - 0s 3ms/step - loss: 0.5979 - accuracy: 0.7645\nEpoch 64/300\n8/8 [==============================] - 0s 2ms/step - loss: 0.5723 - accuracy: 0.7934\nEpoch 65/300\n8/8 [==============================] - 0s 2ms/step - loss: 0.5656 - accuracy: 0.7769\nEpoch 66/300\n8/8 [==============================] - 0s 2ms/step - loss: 0.5589 - accuracy: 0.7851\nEpoch 67/300\n8/8 [==============================] - 0s 2ms/step - loss: 0.5466 - accuracy: 0.7893\nEpoch 68/300\n8/8 [==============================] - 0s 2ms/step - loss: 0.5575 - accuracy: 0.7645\nEpoch 69/300\n8/8 [==============================] - 0s 2ms/step - loss: 0.5432 - accuracy: 0.7686\nEpoch 70/300\n8/8 [==============================] - 0s 2ms/step - loss: 0.5457 - accuracy: 0.7686\nEpoch 71/300\n8/8 [==============================] - 0s 2ms/step - loss: 0.5273 - accuracy: 0.7810\nEpoch 72/300\n8/8 [==============================] - 0s 2ms/step - loss: 0.5297 - accuracy: 0.7810\nEpoch 73/300\n8/8 [==============================] - 0s 2ms/step - loss: 0.5145 - accuracy: 0.7934\nEpoch 74/300\n8/8 [==============================] - 0s 2ms/step - loss: 0.5120 - accuracy: 0.7934\nEpoch 75/300\n8/8 [==============================] - 0s 2ms/step - loss: 0.5089 - accuracy: 0.7851\nEpoch 76/300\n8/8 [==============================] - 0s 2ms/step - loss: 0.4988 - accuracy: 0.8058\nEpoch 77/300\n8/8 [==============================] - 0s 2ms/step - loss: 0.4927 - accuracy: 0.7934\nEpoch 78/300\n8/8 [==============================] - 0s 2ms/step - loss: 0.4853 - accuracy: 0.8017\nEpoch 79/300\n8/8 [==============================] - 0s 2ms/step - loss: 0.4946 - accuracy: 0.7975\nEpoch 80/300\n8/8 [==============================] - 0s 2ms/step - loss: 0.4849 - accuracy: 0.7893\nEpoch 81/300\n8/8 [==============================] - 0s 2ms/step - loss: 0.4939 - accuracy: 0.7893\nEpoch 82/300\n8/8 [==============================] - 0s 3ms/step - loss: 0.4936 - accuracy: 0.7893\nEpoch 83/300\n8/8 [==============================] - 0s 2ms/step - loss: 0.4864 - accuracy: 0.7851\nEpoch 84/300\n8/8 [==============================] - 0s 2ms/step - loss: 0.4853 - accuracy: 0.7893\nEpoch 85/300\n8/8 [==============================] - 0s 2ms/step - loss: 0.5191 - accuracy: 0.7727\nEpoch 86/300\n8/8 [==============================] - 0s 2ms/step - loss: 0.4702 - accuracy: 0.7851\nEpoch 87/300\n8/8 [==============================] - 0s 2ms/step - loss: 0.4692 - accuracy: 0.8017\nEpoch 88/300\n8/8 [==============================] - 0s 2ms/step - loss: 0.4689 - accuracy: 0.7810\nEpoch 89/300\n8/8 [==============================] - 0s 2ms/step - loss: 0.4617 - accuracy: 0.7975\nEpoch 90/300\n8/8 [==============================] - 0s 2ms/step - loss: 0.4523 - accuracy: 0.8058\nEpoch 91/300\n8/8 [==============================] - 0s 2ms/step - loss: 0.4426 - accuracy: 0.8017\nEpoch 92/300\n8/8 [==============================] - 0s 2ms/step - loss: 0.4385 - accuracy: 0.8058\nEpoch 93/300\n8/8 [==============================] - 0s 2ms/step - loss: 0.4312 - accuracy: 0.8182\nEpoch 94/300\n8/8 [==============================] - 0s 2ms/step - loss: 0.4310 - accuracy: 0.8099\nEpoch 95/300\n8/8 [==============================] - 0s 2ms/step - loss: 0.4236 - accuracy: 0.8223\nEpoch 96/300\n8/8 [==============================] - 0s 2ms/step - loss: 0.4470 - accuracy: 0.8058\nEpoch 97/300\n8/8 [==============================] - 0s 2ms/step - loss: 0.4494 - accuracy: 0.8223\nEpoch 98/300\n8/8 [==============================] - 0s 2ms/step - loss: 0.4482 - accuracy: 0.7851\nEpoch 99/300\n8/8 [==============================] - 0s 2ms/step - loss: 0.4651 - accuracy: 0.7934\nEpoch 100/300\n8/8 [==============================] - 0s 2ms/step - loss: 0.4186 - accuracy: 0.8182\nEpoch 101/300\n8/8 [==============================] - 0s 2ms/step - loss: 0.4150 - accuracy: 0.8182\nEpoch 102/300\n8/8 [==============================] - 0s 2ms/step - loss: 0.4242 - accuracy: 0.8223\nEpoch 103/300\n8/8 [==============================] - 0s 2ms/step - loss: 0.4344 - accuracy: 0.8099\nEpoch 104/300\n8/8 [==============================] - 0s 2ms/step - loss: 0.4270 - accuracy: 0.8099\nEpoch 105/300\n8/8 [==============================] - 0s 2ms/step - loss: 0.4370 - accuracy: 0.8140\nEpoch 106/300\n8/8 [==============================] - 0s 2ms/step - loss: 0.4249 - accuracy: 0.8058\nEpoch 107/300\n8/8 [==============================] - 0s 1ms/step - loss: 0.4074 - accuracy: 0.8264\nEpoch 108/300\n8/8 [==============================] - 0s 2ms/step - loss: 0.4018 - accuracy: 0.8306\nEpoch 109/300\n8/8 [==============================] - 0s 2ms/step - loss: 0.4054 - accuracy: 0.8306\nEpoch 110/300\n8/8 [==============================] - 0s 2ms/step - loss: 0.4147 - accuracy: 0.8099\nEpoch 111/300\n8/8 [==============================] - 0s 2ms/step - loss: 0.4109 - accuracy: 0.8347\nEpoch 112/300\n8/8 [==============================] - 0s 2ms/step - loss: 0.4103 - accuracy: 0.8140\nEpoch 113/300\n8/8 [==============================] - 0s 2ms/step - loss: 0.4274 - accuracy: 0.7893\nEpoch 114/300\n8/8 [==============================] - 0s 2ms/step - loss: 0.4495 - accuracy: 0.7769\nEpoch 115/300\n8/8 [==============================] - 0s 2ms/step - loss: 0.4027 - accuracy: 0.8306\nEpoch 116/300\n8/8 [==============================] - 0s 2ms/step - loss: 0.3973 - accuracy: 0.8306\nEpoch 117/300\n8/8 [==============================] - 0s 2ms/step - loss: 0.3876 - accuracy: 0.8140\nEpoch 118/300\n8/8 [==============================] - 0s 2ms/step - loss: 0.3911 - accuracy: 0.8264\nEpoch 119/300\n8/8 [==============================] - 0s 2ms/step - loss: 0.3945 - accuracy: 0.8140\nEpoch 120/300\n8/8 [==============================] - 0s 2ms/step - loss: 0.3982 - accuracy: 0.8306\nEpoch 121/300\n8/8 [==============================] - 0s 2ms/step - loss: 0.3968 - accuracy: 0.8430\nEpoch 122/300\n8/8 [==============================] - 0s 2ms/step - loss: 0.3886 - accuracy: 0.8430\nEpoch 123/300\n8/8 [==============================] - 0s 2ms/step - loss: 0.3932 - accuracy: 0.8306\nEpoch 124/300\n8/8 [==============================] - 0s 2ms/step - loss: 0.3886 - accuracy: 0.8264\nEpoch 125/300\n8/8 [==============================] - 0s 2ms/step - loss: 0.3958 - accuracy: 0.8306\nEpoch 126/300\n8/8 [==============================] - 0s 1ms/step - loss: 0.3813 - accuracy: 0.8306\nEpoch 127/300\n8/8 [==============================] - 0s 2ms/step - loss: 0.3955 - accuracy: 0.8264\nEpoch 128/300\n8/8 [==============================] - 0s 2ms/step - loss: 0.4189 - accuracy: 0.8223\nEpoch 129/300\n8/8 [==============================] - 0s 2ms/step - loss: 0.4236 - accuracy: 0.8140\nEpoch 130/300\n8/8 [==============================] - 0s 2ms/step - loss: 0.4077 - accuracy: 0.7975\nEpoch 131/300\n8/8 [==============================] - 0s 2ms/step - loss: 0.4136 - accuracy: 0.8099\nEpoch 132/300\n8/8 [==============================] - 0s 2ms/step - loss: 0.3846 - accuracy: 0.8595\nEpoch 133/300\n8/8 [==============================] - 0s 2ms/step - loss: 0.3894 - accuracy: 0.8471\nEpoch 134/300\n8/8 [==============================] - 0s 2ms/step - loss: 0.3764 - accuracy: 0.8471\nEpoch 135/300\n8/8 [==============================] - 0s 2ms/step - loss: 0.3915 - accuracy: 0.8430\nEpoch 136/300\n8/8 [==============================] - 0s 2ms/step - loss: 0.4224 - accuracy: 0.8099\nEpoch 137/300\n8/8 [==============================] - 0s 2ms/step - loss: 0.4107 - accuracy: 0.8182\nEpoch 138/300\n8/8 [==============================] - 0s 2ms/step - loss: 0.3725 - accuracy: 0.8471\nEpoch 139/300\n8/8 [==============================] - 0s 2ms/step - loss: 0.3850 - accuracy: 0.8347\nEpoch 140/300\n8/8 [==============================] - 0s 2ms/step - loss: 0.3713 - accuracy: 0.8347\nEpoch 141/300\n8/8 [==============================] - 0s 2ms/step - loss: 0.3747 - accuracy: 0.8430\nEpoch 142/300\n8/8 [==============================] - 0s 2ms/step - loss: 0.3719 - accuracy: 0.8388\nEpoch 143/300\n8/8 [==============================] - 0s 3ms/step - loss: 0.3953 - accuracy: 0.8388\nEpoch 144/300\n8/8 [==============================] - 0s 2ms/step - loss: 0.4031 - accuracy: 0.8264\nEpoch 145/300\n8/8 [==============================] - 0s 2ms/step - loss: 0.3822 - accuracy: 0.8512\nEpoch 146/300\n8/8 [==============================] - 0s 2ms/step - loss: 0.3721 - accuracy: 0.8512\nEpoch 147/300\n8/8 [==============================] - 0s 3ms/step - loss: 0.3702 - accuracy: 0.8347\nEpoch 148/300\n8/8 [==============================] - 0s 2ms/step - loss: 0.3693 - accuracy: 0.8430\nEpoch 149/300\n8/8 [==============================] - 0s 2ms/step - loss: 0.3756 - accuracy: 0.8512\nEpoch 150/300\n8/8 [==============================] - 0s 2ms/step - loss: 0.3969 - accuracy: 0.8347\nEpoch 151/300\n8/8 [==============================] - 0s 2ms/step - loss: 0.3701 - accuracy: 0.8430\nEpoch 152/300\n8/8 [==============================] - 0s 2ms/step - loss: 0.4428 - accuracy: 0.8099\nEpoch 153/300\n8/8 [==============================] - 0s 2ms/step - loss: 0.3731 - accuracy: 0.8347\nEpoch 154/300\n8/8 [==============================] - 0s 2ms/step - loss: 0.4016 - accuracy: 0.8223\nEpoch 155/300\n8/8 [==============================] - 0s 2ms/step - loss: 0.3919 - accuracy: 0.8347\nEpoch 156/300\n8/8 [==============================] - 0s 2ms/step - loss: 0.3798 - accuracy: 0.8347\nEpoch 157/300\n8/8 [==============================] - 0s 2ms/step - loss: 0.3775 - accuracy: 0.8512\nEpoch 158/300\n8/8 [==============================] - 0s 2ms/step - loss: 0.3857 - accuracy: 0.8306\nEpoch 159/300\n8/8 [==============================] - 0s 2ms/step - loss: 0.4337 - accuracy: 0.8182\nEpoch 160/300\n8/8 [==============================] - 0s 2ms/step - loss: 0.3683 - accuracy: 0.8471\nEpoch 161/300\n8/8 [==============================] - 0s 2ms/step - loss: 0.3792 - accuracy: 0.8388\nEpoch 162/300\n8/8 [==============================] - 0s 2ms/step - loss: 0.3680 - accuracy: 0.8471\nEpoch 163/300\n8/8 [==============================] - 0s 2ms/step - loss: 0.3675 - accuracy: 0.8347\nEpoch 164/300\n8/8 [==============================] - 0s 2ms/step - loss: 0.3663 - accuracy: 0.8471\nEpoch 165/300\n8/8 [==============================] - 0s 2ms/step - loss: 0.3653 - accuracy: 0.8471\nEpoch 166/300\n8/8 [==============================] - 0s 2ms/step - loss: 0.3630 - accuracy: 0.8471\nEpoch 167/300\n8/8 [==============================] - 0s 2ms/step - loss: 0.3671 - accuracy: 0.8388\nEpoch 168/300\n8/8 [==============================] - 0s 2ms/step - loss: 0.3693 - accuracy: 0.8430\nEpoch 169/300\n8/8 [==============================] - 0s 2ms/step - loss: 0.3720 - accuracy: 0.8347\nEpoch 170/300\n8/8 [==============================] - 0s 2ms/step - loss: 0.3905 - accuracy: 0.8388\nEpoch 171/300\n8/8 [==============================] - 0s 2ms/step - loss: 0.3888 - accuracy: 0.8430\nEpoch 172/300\n8/8 [==============================] - 0s 2ms/step - loss: 0.3860 - accuracy: 0.8388\nEpoch 173/300\n8/8 [==============================] - 0s 2ms/step - loss: 0.3768 - accuracy: 0.8388\nEpoch 174/300\n8/8 [==============================] - 0s 2ms/step - loss: 0.4009 - accuracy: 0.8017\nEpoch 175/300\n8/8 [==============================] - 0s 2ms/step - loss: 0.4079 - accuracy: 0.8140\nEpoch 176/300\n8/8 [==============================] - 0s 2ms/step - loss: 0.4609 - accuracy: 0.7975\nEpoch 177/300\n8/8 [==============================] - 0s 2ms/step - loss: 0.4135 - accuracy: 0.8182\nEpoch 178/300\n8/8 [==============================] - 0s 2ms/step - loss: 0.4211 - accuracy: 0.8017\nEpoch 179/300\n8/8 [==============================] - 0s 2ms/step - loss: 0.3891 - accuracy: 0.8388\nEpoch 180/300\n8/8 [==============================] - 0s 2ms/step - loss: 0.3990 - accuracy: 0.8306\nEpoch 181/300\n8/8 [==============================] - 0s 2ms/step - loss: 0.3868 - accuracy: 0.8099\nEpoch 182/300\n8/8 [==============================] - 0s 2ms/step - loss: 0.4005 - accuracy: 0.8182\nEpoch 183/300\n8/8 [==============================] - 0s 2ms/step - loss: 0.4084 - accuracy: 0.8264\nEpoch 184/300\n8/8 [==============================] - 0s 2ms/step - loss: 0.3553 - accuracy: 0.8430\nEpoch 185/300\n8/8 [==============================] - 0s 2ms/step - loss: 0.3607 - accuracy: 0.8471\nEpoch 186/300\n8/8 [==============================] - 0s 2ms/step - loss: 0.3656 - accuracy: 0.8554\nEpoch 187/300\n8/8 [==============================] - 0s 2ms/step - loss: 0.4082 - accuracy: 0.8347\nEpoch 188/300\n8/8 [==============================] - 0s 2ms/step - loss: 0.4320 - accuracy: 0.8058\nEpoch 189/300\n8/8 [==============================] - 0s 2ms/step - loss: 0.4039 - accuracy: 0.8099\nEpoch 190/300\n8/8 [==============================] - 0s 2ms/step - loss: 0.4232 - accuracy: 0.8182\nEpoch 191/300\n8/8 [==============================] - 0s 2ms/step - loss: 0.3592 - accuracy: 0.8306\nEpoch 192/300\n8/8 [==============================] - 0s 2ms/step - loss: 0.4113 - accuracy: 0.8264\nEpoch 193/300\n8/8 [==============================] - 0s 2ms/step - loss: 0.3843 - accuracy: 0.8471\nEpoch 194/300\n8/8 [==============================] - 0s 2ms/step - loss: 0.3734 - accuracy: 0.8264\nEpoch 195/300\n8/8 [==============================] - 0s 2ms/step - loss: 0.3875 - accuracy: 0.8223\nEpoch 196/300\n8/8 [==============================] - 0s 2ms/step - loss: 0.3655 - accuracy: 0.8512\nEpoch 197/300\n8/8 [==============================] - 0s 1ms/step - loss: 0.3612 - accuracy: 0.8512\nEpoch 198/300\n8/8 [==============================] - 0s 2ms/step - loss: 0.3801 - accuracy: 0.8306\nEpoch 199/300\n8/8 [==============================] - 0s 2ms/step - loss: 0.3555 - accuracy: 0.8471\nEpoch 200/300\n8/8 [==============================] - 0s 2ms/step - loss: 0.3716 - accuracy: 0.8512\nEpoch 201/300\n8/8 [==============================] - 0s 2ms/step - loss: 0.3861 - accuracy: 0.8388\nEpoch 202/300\n8/8 [==============================] - 0s 2ms/step - loss: 0.3731 - accuracy: 0.8471\nEpoch 203/300\n8/8 [==============================] - 0s 1ms/step - loss: 0.3714 - accuracy: 0.8471\nEpoch 204/300\n8/8 [==============================] - 0s 2ms/step - loss: 0.3981 - accuracy: 0.8099\nEpoch 205/300\n8/8 [==============================] - 0s 2ms/step - loss: 0.3799 - accuracy: 0.8430\nEpoch 206/300\n8/8 [==============================] - 0s 2ms/step - loss: 0.4061 - accuracy: 0.8264\nEpoch 207/300\n8/8 [==============================] - 0s 2ms/step - loss: 0.3769 - accuracy: 0.8347\nEpoch 208/300\n8/8 [==============================] - 0s 2ms/step - loss: 0.3770 - accuracy: 0.8471\nEpoch 209/300\n8/8 [==============================] - 0s 2ms/step - loss: 0.3697 - accuracy: 0.8430\nEpoch 210/300\n8/8 [==============================] - 0s 2ms/step - loss: 0.3783 - accuracy: 0.8430\nEpoch 211/300\n8/8 [==============================] - 0s 2ms/step - loss: 0.3706 - accuracy: 0.8430\nEpoch 212/300\n8/8 [==============================] - 0s 2ms/step - loss: 0.3668 - accuracy: 0.8430\nEpoch 213/300\n8/8 [==============================] - 0s 2ms/step - loss: 0.3875 - accuracy: 0.8554\nEpoch 214/300\n8/8 [==============================] - 0s 2ms/step - loss: 0.3662 - accuracy: 0.8512\nEpoch 215/300\n8/8 [==============================] - 0s 2ms/step - loss: 0.3740 - accuracy: 0.8595\nEpoch 216/300\n8/8 [==============================] - 0s 2ms/step - loss: 0.3562 - accuracy: 0.8636\nEpoch 217/300\n8/8 [==============================] - 0s 3ms/step - loss: 0.3574 - accuracy: 0.8678\nEpoch 218/300\n8/8 [==============================] - 0s 2ms/step - loss: 0.4046 - accuracy: 0.8347\nEpoch 219/300\n8/8 [==============================] - 0s 2ms/step - loss: 0.4351 - accuracy: 0.7893\nEpoch 220/300\n8/8 [==============================] - 0s 2ms/step - loss: 0.3990 - accuracy: 0.8430\nEpoch 221/300\n8/8 [==============================] - 0s 3ms/step - loss: 0.3756 - accuracy: 0.8347\nEpoch 222/300\n8/8 [==============================] - 0s 3ms/step - loss: 0.3889 - accuracy: 0.8678\nEpoch 223/300\n8/8 [==============================] - 0s 2ms/step - loss: 0.3898 - accuracy: 0.8430\nEpoch 224/300\n8/8 [==============================] - 0s 2ms/step - loss: 0.3766 - accuracy: 0.8388\nEpoch 225/300\n8/8 [==============================] - 0s 2ms/step - loss: 0.3593 - accuracy: 0.8471\nEpoch 226/300\n8/8 [==============================] - 0s 2ms/step - loss: 0.3607 - accuracy: 0.8512\nEpoch 227/300\n8/8 [==============================] - 0s 2ms/step - loss: 0.3620 - accuracy: 0.8554\nEpoch 228/300\n8/8 [==============================] - 0s 2ms/step - loss: 0.3748 - accuracy: 0.8347\nEpoch 229/300\n8/8 [==============================] - 0s 2ms/step - loss: 0.3816 - accuracy: 0.8347\nEpoch 230/300\n8/8 [==============================] - 0s 2ms/step - loss: 0.3720 - accuracy: 0.8430\nEpoch 231/300\n8/8 [==============================] - 0s 2ms/step - loss: 0.3691 - accuracy: 0.8512\nEpoch 232/300\n8/8 [==============================] - 0s 2ms/step - loss: 0.3607 - accuracy: 0.8471\nEpoch 233/300\n8/8 [==============================] - 0s 2ms/step - loss: 0.3663 - accuracy: 0.8554\nEpoch 234/300\n8/8 [==============================] - 0s 2ms/step - loss: 0.3655 - accuracy: 0.8512\nEpoch 235/300\n8/8 [==============================] - 0s 2ms/step - loss: 0.3679 - accuracy: 0.8388\nEpoch 236/300\n8/8 [==============================] - 0s 2ms/step - loss: 0.3665 - accuracy: 0.8430\nEpoch 237/300\n8/8 [==============================] - 0s 2ms/step - loss: 0.3572 - accuracy: 0.8595\nEpoch 238/300\n8/8 [==============================] - 0s 2ms/step - loss: 0.3575 - accuracy: 0.8471\nEpoch 239/300\n8/8 [==============================] - 0s 2ms/step - loss: 0.4073 - accuracy: 0.8264\nEpoch 240/300\n8/8 [==============================] - 0s 2ms/step - loss: 0.4248 - accuracy: 0.8182\nEpoch 241/300\n8/8 [==============================] - 0s 2ms/step - loss: 0.4594 - accuracy: 0.8017\nEpoch 242/300\n8/8 [==============================] - 0s 2ms/step - loss: 0.3895 - accuracy: 0.8182\nEpoch 243/300\n8/8 [==============================] - 0s 2ms/step - loss: 0.3661 - accuracy: 0.8512\nEpoch 244/300\n8/8 [==============================] - 0s 2ms/step - loss: 0.3682 - accuracy: 0.8554\nEpoch 245/300\n8/8 [==============================] - 0s 2ms/step - loss: 0.3583 - accuracy: 0.8595\nEpoch 246/300\n8/8 [==============================] - 0s 2ms/step - loss: 0.3787 - accuracy: 0.8306\nEpoch 247/300\n8/8 [==============================] - 0s 2ms/step - loss: 0.3812 - accuracy: 0.8636\nEpoch 248/300\n8/8 [==============================] - 0s 2ms/step - loss: 0.3672 - accuracy: 0.8430\nEpoch 249/300\n8/8 [==============================] - 0s 2ms/step - loss: 0.3642 - accuracy: 0.8512\nEpoch 250/300\n8/8 [==============================] - 0s 2ms/step - loss: 0.3750 - accuracy: 0.8471\nEpoch 251/300\n8/8 [==============================] - 0s 2ms/step - loss: 0.3565 - accuracy: 0.8554\nEpoch 252/300\n8/8 [==============================] - 0s 2ms/step - loss: 0.3689 - accuracy: 0.8388\nEpoch 253/300\n8/8 [==============================] - 0s 2ms/step - loss: 0.3619 - accuracy: 0.8512\nEpoch 254/300\n8/8 [==============================] - 0s 2ms/step - loss: 0.3785 - accuracy: 0.8223\nEpoch 255/300\n8/8 [==============================] - 0s 2ms/step - loss: 0.3670 - accuracy: 0.8388\nEpoch 256/300\n8/8 [==============================] - 0s 2ms/step - loss: 0.3654 - accuracy: 0.8388\nEpoch 257/300\n8/8 [==============================] - 0s 2ms/step - loss: 0.3640 - accuracy: 0.8471\nEpoch 258/300\n8/8 [==============================] - 0s 2ms/step - loss: 0.3639 - accuracy: 0.8595\nEpoch 259/300\n8/8 [==============================] - 0s 2ms/step - loss: 0.3783 - accuracy: 0.8306\nEpoch 260/300\n8/8 [==============================] - 0s 2ms/step - loss: 0.3751 - accuracy: 0.8223\nEpoch 261/300\n8/8 [==============================] - 0s 2ms/step - loss: 0.3997 - accuracy: 0.8264\nEpoch 262/300\n8/8 [==============================] - 0s 2ms/step - loss: 0.3766 - accuracy: 0.8471\nEpoch 263/300\n8/8 [==============================] - 0s 2ms/step - loss: 0.4052 - accuracy: 0.8347\nEpoch 264/300\n8/8 [==============================] - 0s 2ms/step - loss: 0.3524 - accuracy: 0.8595\nEpoch 265/300\n8/8 [==============================] - 0s 2ms/step - loss: 0.3921 - accuracy: 0.8223\nEpoch 266/300\n8/8 [==============================] - 0s 2ms/step - loss: 0.3786 - accuracy: 0.8388\nEpoch 267/300\n8/8 [==============================] - 0s 2ms/step - loss: 0.3584 - accuracy: 0.8430\nEpoch 268/300\n8/8 [==============================] - 0s 3ms/step - loss: 0.3776 - accuracy: 0.8471\nEpoch 269/300\n8/8 [==============================] - 0s 2ms/step - loss: 0.4158 - accuracy: 0.8388\nEpoch 270/300\n8/8 [==============================] - 0s 2ms/step - loss: 0.3940 - accuracy: 0.8140\nEpoch 271/300\n8/8 [==============================] - 0s 2ms/step - loss: 0.3768 - accuracy: 0.8347\nEpoch 272/300\n8/8 [==============================] - 0s 2ms/step - loss: 0.3864 - accuracy: 0.8554\nEpoch 273/300\n8/8 [==============================] - 0s 2ms/step - loss: 0.3578 - accuracy: 0.8554\nEpoch 274/300\n8/8 [==============================] - 0s 2ms/step - loss: 0.3574 - accuracy: 0.8471\nEpoch 275/300\n8/8 [==============================] - 0s 2ms/step - loss: 0.3819 - accuracy: 0.8347\nEpoch 276/300\n8/8 [==============================] - 0s 2ms/step - loss: 0.3872 - accuracy: 0.8264\nEpoch 277/300\n8/8 [==============================] - 0s 2ms/step - loss: 0.3762 - accuracy: 0.8554\nEpoch 278/300\n8/8 [==============================] - 0s 2ms/step - loss: 0.3570 - accuracy: 0.8471\nEpoch 279/300\n8/8 [==============================] - 0s 2ms/step - loss: 0.3813 - accuracy: 0.8554\nEpoch 280/300\n8/8 [==============================] - 0s 2ms/step - loss: 0.3624 - accuracy: 0.8595\nEpoch 281/300\n8/8 [==============================] - 0s 2ms/step - loss: 0.3800 - accuracy: 0.8347\nEpoch 282/300\n8/8 [==============================] - 0s 3ms/step - loss: 0.3773 - accuracy: 0.8554\nEpoch 283/300\n8/8 [==============================] - 0s 2ms/step - loss: 0.3637 - accuracy: 0.8471\nEpoch 284/300\n8/8 [==============================] - 0s 2ms/step - loss: 0.3627 - accuracy: 0.8554\nEpoch 285/300\n8/8 [==============================] - 0s 2ms/step - loss: 0.3590 - accuracy: 0.8636\nEpoch 286/300\n8/8 [==============================] - 0s 2ms/step - loss: 0.3855 - accuracy: 0.8430\nEpoch 287/300\n8/8 [==============================] - 0s 2ms/step - loss: 0.3798 - accuracy: 0.8430\nEpoch 288/300\n8/8 [==============================] - 0s 2ms/step - loss: 0.3657 - accuracy: 0.8595\nEpoch 289/300\n8/8 [==============================] - 0s 2ms/step - loss: 0.3558 - accuracy: 0.8636\nEpoch 290/300\n8/8 [==============================] - 0s 2ms/step - loss: 0.3552 - accuracy: 0.8595\nEpoch 291/300\n8/8 [==============================] - 0s 2ms/step - loss: 0.3558 - accuracy: 0.8512\nEpoch 292/300\n8/8 [==============================] - 0s 2ms/step - loss: 0.3725 - accuracy: 0.8471\nEpoch 293/300\n8/8 [==============================] - 0s 2ms/step - loss: 0.3651 - accuracy: 0.8347\nEpoch 294/300\n8/8 [==============================] - 0s 2ms/step - loss: 0.3529 - accuracy: 0.8595\nEpoch 295/300\n8/8 [==============================] - 0s 2ms/step - loss: 0.3586 - accuracy: 0.8595\nEpoch 296/300\n8/8 [==============================] - 0s 1ms/step - loss: 0.3749 - accuracy: 0.8430\nEpoch 297/300\n8/8 [==============================] - 0s 2ms/step - loss: 0.3876 - accuracy: 0.8388\nEpoch 298/300\n8/8 [==============================] - 0s 2ms/step - loss: 0.3765 - accuracy: 0.8347\nEpoch 299/300\n8/8 [==============================] - 0s 2ms/step - loss: 0.3581 - accuracy: 0.8388\nEpoch 300/300\n8/8 [==============================] - 0s 2ms/step - loss: 0.3630 - accuracy: 0.8430\n",
     "output_type": "stream"
    },
    {
     "execution_count": 68,
     "output_type": "execute_result",
     "data": {
      "text/plain": "<keras.src.callbacks.History at 0x7d01dd195120>"
     },
     "metadata": {}
    }
   ]
  },
  {
   "cell_type": "code",
   "source": [
    "Y_pred_nn = model.predict(X_test)"
   ],
   "metadata": {
    "execution": {
     "iopub.status.busy": "2023-12-09T04:06:16.851805Z",
     "iopub.execute_input": "2023-12-09T04:06:16.852302Z",
     "iopub.status.idle": "2023-12-09T04:06:17.001975Z",
     "shell.execute_reply.started": "2023-12-09T04:06:16.852277Z",
     "shell.execute_reply": "2023-12-09T04:06:17.001081Z"
    },
    "trusted": true
   },
   "execution_count": 69,
   "outputs": [
    {
     "name": "stdout",
     "text": "2/2 [==============================] - 0s 2ms/step\n",
     "output_type": "stream"
    }
   ]
  },
  {
   "cell_type": "code",
   "source": [
    "Y_pred_nn.shape"
   ],
   "metadata": {
    "execution": {
     "iopub.status.busy": "2023-12-09T04:06:17.003478Z",
     "iopub.execute_input": "2023-12-09T04:06:17.003774Z",
     "iopub.status.idle": "2023-12-09T04:06:17.010213Z",
     "shell.execute_reply.started": "2023-12-09T04:06:17.003750Z",
     "shell.execute_reply": "2023-12-09T04:06:17.008737Z"
    },
    "trusted": true
   },
   "execution_count": 70,
   "outputs": [
    {
     "execution_count": 70,
     "output_type": "execute_result",
     "data": {
      "text/plain": "(61, 1)"
     },
     "metadata": {}
    }
   ]
  },
  {
   "cell_type": "code",
   "source": [
    "rounded = [round(x) for x in Y_pred_nn]\n",
    "Y_pred_nn = rounded"
   ],
   "metadata": {
    "execution": {
     "iopub.status.busy": "2023-12-09T04:21:16.916811Z",
     "iopub.execute_input": "2023-12-09T04:21:16.917159Z",
     "iopub.status.idle": "2023-12-09T04:21:16.922246Z",
     "shell.execute_reply.started": "2023-12-09T04:21:16.917131Z",
     "shell.execute_reply": "2023-12-09T04:21:16.921007Z"
    },
    "trusted": true
   },
   "execution_count": 88,
   "outputs": []
  },
  {
   "cell_type": "code",
   "source": [
    "score_nn = round(accuracy_score(Y_pred_nn,Y_test)*100,2)\n",
    "\n",
    "print(\"The accuracy score achieved using Neural Network is: \"+str(score_nn)+\" %\")\n",
    "\n",
    "#Note: Accuracy of 85% can be achieved on the test set, by setting epochs=2000, and number of nodes = 11. "
   ],
   "metadata": {
    "execution": {
     "iopub.status.busy": "2023-12-09T04:06:17.022216Z",
     "iopub.execute_input": "2023-12-09T04:06:17.022859Z",
     "iopub.status.idle": "2023-12-09T04:06:17.033680Z",
     "shell.execute_reply.started": "2023-12-09T04:06:17.022831Z",
     "shell.execute_reply": "2023-12-09T04:06:17.032277Z"
    },
    "trusted": true
   },
   "execution_count": 72,
   "outputs": [
    {
     "name": "stdout",
     "text": "The accuracy score achieved using Neural Network is: 83.61 %\n",
     "output_type": "stream"
    }
   ]
  },
  {
   "cell_type": "markdown",
   "source": [
    "# **Output final score**"
   ],
   "metadata": {}
  },
  {
   "cell_type": "code",
   "source": [
    "scores = [score_lr,score_nb,score_svm,score_knn,score_dt,score_rf,score_xgb,score_nn]\n",
    "algorithms = [\"Logistic Regression\",\"Naive Bayes\",\"Support Vector Machine\",\"K-Nearest Neighbors\",\"Decision Tree\",\"Random Forest\",\"XGBoost\",\"Neural Network\"]    \n",
    "\n",
    "for i in range(len(algorithms)):\n",
    "    print(\"The accuracy score achieved using \"+algorithms[i]+\" is: \"+str(scores[i])+\" %\")"
   ],
   "metadata": {
    "execution": {
     "iopub.status.busy": "2023-12-09T04:06:17.034905Z",
     "iopub.execute_input": "2023-12-09T04:06:17.035245Z",
     "iopub.status.idle": "2023-12-09T04:06:17.043622Z",
     "shell.execute_reply.started": "2023-12-09T04:06:17.035183Z",
     "shell.execute_reply": "2023-12-09T04:06:17.042455Z"
    },
    "trusted": true
   },
   "execution_count": 73,
   "outputs": [
    {
     "name": "stdout",
     "text": "The accuracy score achieved using Logistic Regression is: 85.25 %\nThe accuracy score achieved using Naive Bayes is: 85.25 %\nThe accuracy score achieved using Support Vector Machine is: 81.97 %\nThe accuracy score achieved using K-Nearest Neighbors is: 67.21 %\nThe accuracy score achieved using Decision Tree is: 81.97 %\nThe accuracy score achieved using Random Forest is: 90.16 %\nThe accuracy score achieved using XGBoost is: 83.61 %\nThe accuracy score achieved using Neural Network is: 83.61 %\n",
     "output_type": "stream"
    }
   ]
  },
  {
   "cell_type": "code",
   "source": [
    "import seaborn as sns\n",
    "import matplotlib.pyplot as plt\n",
    "\n",
    "# Your data\n",
    "scores = [score_lr, score_nb, score_svm, score_knn, score_dt, score_rf, score_xgb, score_nn]\n",
    "algorithms = [\"Logistic Regression\", \"Naive Bayes\", \"Support Vector Machine\", \"K-Nearest Neighbors\", \"Decision Tree\", \"Random Forest\", \"XGBoost\", \"Neural Network\"]\n",
    "\n",
    "# Create a DataFrame\n",
    "data = {'Algorithms': algorithms, 'Accuracy Score': scores}\n",
    "df = pd.DataFrame(data)\n",
    "\n",
    "# Set the figure size\n",
    "sns.set(rc={'figure.figsize':(15, 8)})\n",
    "\n",
    "# Create the bar plot\n",
    "sns.barplot(x='Algorithms', y='Accuracy Score', data=df)\n",
    "\n",
    "# Set labels\n",
    "plt.xlabel(\"Algorithms\")\n",
    "plt.ylabel(\"Accuracy score\")\n",
    "\n",
    "# Show the plot\n",
    "plt.show()\n",
    "\n"
   ],
   "metadata": {
    "execution": {
     "iopub.status.busy": "2023-12-09T04:17:12.674294Z",
     "iopub.execute_input": "2023-12-09T04:17:12.674648Z",
     "iopub.status.idle": "2023-12-09T04:17:12.947695Z",
     "shell.execute_reply.started": "2023-12-09T04:17:12.674622Z",
     "shell.execute_reply": "2023-12-09T04:17:12.947022Z"
    },
    "trusted": true
   },
   "execution_count": 80,
   "outputs": [
    {
     "output_type": "display_data",
     "data": {
      "text/plain": "<Figure size 1500x800 with 1 Axes>",
      "image/png": "[encoded data removed]"
     },
     "metadata": {}
    }
   ]
  },
  {
   "cell_type": "code",
   "source": [],
   "metadata": {},
   "execution_count": null,
   "outputs": []
  }
 ]
}
